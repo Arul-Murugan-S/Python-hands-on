{
 "cells": [
  {
   "cell_type": "code",
   "execution_count": 4,
   "metadata": {},
   "outputs": [
    {
     "name": "stdout",
     "output_type": "stream",
     "text": [
      "Hi Friends\n",
      "55\n",
      "38.9\n",
      "6j\n",
      "['one', 'two', 'three']\n",
      "('one', 'two', 'three')\n",
      "range(0, 6)\n",
      "{'name': 'Arul', 'age': 39}\n",
      "{'one', 'three', 'two'}\n",
      "frozenset({'one', 'three', 'two'})\n",
      "True\n",
      "b'\\x00\\x00\\x00\\x00\\x00\\x00'\n",
      "bytearray(b'\\x00\\x00\\x00\\x00\\x00\\x00')\n",
      "<memory at 0x000001CBF0BD7DC0>\n"
     ]
    }
   ],
   "source": [
    "x = \"Hi Friends\"                                 #str     direct setting\n",
    "x = str(\"Hi Friends\")                            #str     specific setting\n",
    "print(x)\n",
    "\n",
    "x = 55                                           #int            \"\n",
    "x = int(55)\n",
    "print(x)\n",
    " \n",
    "x = 38.9                                         #float          \"\n",
    "x = float(38.9)\n",
    "print(x)\n",
    "\n",
    "x = 6j                                           #complex         \"\n",
    "x = complex(6j)\n",
    "print(x)\n",
    "  \n",
    "x = [\"one\", \"two\", \"three\"]                      #list             \"\n",
    "x = list((\"one\", \"two\", \"three\"))  \n",
    "print(x)\n",
    "\n",
    "x = (\"one\", \"two\", \"three\")                      #tuple            \"\n",
    "x = tuple((\"one\", \"two\", \"three\")) \n",
    "print(x)\n",
    "\n",
    "x = range(6)                                     #range            \"\n",
    "x = range(6)\n",
    "print(x)\n",
    "\n",
    "x = {\"name\" : \"Arul\", \"age\" : 39}                #dict            \"\n",
    "x = dict(name=\"Arul\", age=39)\n",
    "print(x)\n",
    "   \n",
    "x = {\"one\", \"two\", \"three\"}                      #set              \"\n",
    "x = set((\"one\", \"two\", \"three\"))\n",
    "print(x)\n",
    "\n",
    "x = frozenset({\"one\", \"two\", \"three\"})           #frozenset        \"\n",
    "x = frozenset((\"one\", \"two\", \"three\")) \n",
    "print(x)\n",
    "\n",
    "x = True                                         #bool             \"\n",
    "x = bool(6)\n",
    "print(x)\n",
    "\n",
    "x = b\"sixsix\"                                     #bytes           \"\n",
    "x = bytes(6)\n",
    "print(x)\n",
    "\n",
    "x = bytearray(6)                                 #bytearray        \"\n",
    "x = bytearray(6)\n",
    "print(x)\n",
    "\n",
    "x = memoryview(bytes(6))                         #memoryview        \"\n",
    "x = memoryview(bytes(6))\n",
    "print(x)"
   ]
  }
 ],
 "metadata": {
  "kernelspec": {
   "display_name": "Python 3",
   "language": "python",
   "name": "python3"
  },
  "language_info": {
   "codemirror_mode": {
    "name": "ipython",
    "version": 3
   },
   "file_extension": ".py",
   "mimetype": "text/x-python",
   "name": "python",
   "nbconvert_exporter": "python",
   "pygments_lexer": "ipython3",
   "version": "3.7.6"
  }
 },
 "nbformat": 4,
 "nbformat_minor": 4
}
