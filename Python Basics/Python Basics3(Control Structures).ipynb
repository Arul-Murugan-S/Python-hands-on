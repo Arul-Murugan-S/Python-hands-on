{
 "cells": [
  {
   "cell_type": "code",
   "execution_count": 1,
   "metadata": {
    "scrolled": true
   },
   "outputs": [
    {
     "name": "stdout",
     "output_type": "stream",
     "text": [
      "Enter the Age:20\n",
      "Adult\n"
     ]
    }
   ],
   "source": [
    "#Control Stuctures\n",
    "\"\"\"if-else\"\"\"\n",
    "inputt=int(input(\"Enter the Age:\"))\n",
    "if(inputt<18):\n",
    "    print(\"Children\")\n",
    "else:\n",
    "    print(\"Adult\")\n",
    "    "
   ]
  },
  {
   "cell_type": "code",
   "execution_count": null,
   "metadata": {},
   "outputs": [],
   "source": [
    "inpt=int(input(\"Enter the age:\"))\n",
    "if inpt<=18:\n",
    "    print(\"Minor\")\n",
    "elif inpt<=59:\n",
    "    print(\"Citizen\")\n",
    "else:\n",
    "    print(\"Senior Citizen\")\n",
    "    "
   ]
  },
  {
   "cell_type": "code",
   "execution_count": 7,
   "metadata": {},
   "outputs": [
    {
     "name": "stdout",
     "output_type": "stream",
     "text": [
      "Enter the Password:sa@123\n",
      "Welcome\n"
     ]
    }
   ],
   "source": [
    "inputt=input(\"Enter the Password:\")\n",
    "if(inputt==\"sa@123\"):\n",
    "    print(\"Welcome\")\n",
    "else:\n",
    "    print(\"Password is wrong\")\n",
    "    "
   ]
  },
  {
   "cell_type": "code",
   "execution_count": 6,
   "metadata": {},
   "outputs": [
    {
     "name": "stdout",
     "output_type": "stream",
     "text": [
      "Enter the Password:sa@111\n",
      "Password is wrong\n"
     ]
    }
   ],
   "source": [
    "inputt=input(\"Enter the Password:\")\n",
    "if(inputt==\"sa@123\"):\n",
    "    print(\"Welcome\")\n",
    "else:\n",
    "    print(\"Password is wrong\")\n",
    "    "
   ]
  },
  {
   "cell_type": "code",
   "execution_count": 10,
   "metadata": {},
   "outputs": [
    {
     "name": "stdout",
     "output_type": "stream",
     "text": [
      "Enter the Age:34\n",
      "Citizen\n"
     ]
    }
   ],
   "source": [
    "# if-elif\n",
    "inputt=int(input(\"Enter the Age:\"))\n",
    "if(inputt<18):\n",
    "    print(\"Children\")\n",
    "elif(inputt<=25):\n",
    "    print(\"Adult\")\n",
    "elif(inputt<=59):\n",
    "    print(\"Citizen\")\n",
    "else:\n",
    "    print(\"Senior Citizen\")"
   ]
  },
  {
   "cell_type": "code",
   "execution_count": 4,
   "metadata": {},
   "outputs": [
    {
     "data": {
      "text/plain": [
       "'python'"
      ]
     },
     "execution_count": 4,
     "metadata": {},
     "output_type": "execute_result"
    }
   ],
   "source": [
    "#List\n",
    "list1=[\"python\",\"java\",2000,-100]\n",
    "list1[0] #list starts form 0,1,2.....  its called Indexing"
   ]
  },
  {
   "cell_type": "code",
   "execution_count": 8,
   "metadata": {},
   "outputs": [
    {
     "data": {
      "text/plain": [
       "-100"
      ]
     },
     "execution_count": 8,
     "metadata": {},
     "output_type": "execute_result"
    }
   ],
   "source": [
    "list1=[\"python\",\"java\",2000,-100]\n",
    "list1[3]"
   ]
  },
  {
   "cell_type": "code",
   "execution_count": 3,
   "metadata": {},
   "outputs": [
    {
     "data": {
      "text/plain": [
       "'VB'"
      ]
     },
     "execution_count": 3,
     "metadata": {},
     "output_type": "execute_result"
    }
   ],
   "source": [
    "list2=[\"python\",\"java\",\"c++\",\"VB\",\"Oracle\"]\n",
    "list2[3]"
   ]
  },
  {
   "cell_type": "code",
   "execution_count": 13,
   "metadata": {},
   "outputs": [
    {
     "name": "stdout",
     "output_type": "stream",
     "text": [
      "['python', 'java', 'c++', 'VB', 'Oracle']\n"
     ]
    }
   ],
   "source": [
    "print(list2)"
   ]
  },
  {
   "cell_type": "code",
   "execution_count": null,
   "metadata": {},
   "outputs": [],
   "source": [
    "list1=[\"one\",\"two\",\"three\",\"four\"]\n",
    "#print(list1[1])\n",
    "for sample in list1[-1::-2]:\n",
    "    print(sample)"
   ]
  },
  {
   "cell_type": "code",
   "execution_count": null,
   "metadata": {},
   "outputs": [],
   "source": [
    "# Initialize list\n",
    "List = [1, 2, 3, 4, 5, 6, 7, 8, 9]\n",
    " \n",
    "# Show original list\n",
    "print(\"\\nOriginal List:\\n\", List)\n",
    " \n",
    "print(\"\\nSliced Lists: \")\n",
    " \n",
    "# Display sliced list\n",
    "print(List[3:9:2])\n",
    " \n",
    "# Display sliced list\n",
    "print(List[::2])\n",
    " \n",
    "# Display sliced list\n",
    "print(List[::])"
   ]
  },
  {
   "cell_type": "code",
   "execution_count": 11,
   "metadata": {},
   "outputs": [
    {
     "name": "stdout",
     "output_type": "stream",
     "text": [
      "python\n",
      "java\n",
      "c++\n",
      "VB\n",
      "Oracle\n"
     ]
    }
   ],
   "source": [
    "#For loop\n",
    "for temp in list2:     #syntax\n",
    "    print(temp)\n",
    "    "
   ]
  },
  {
   "cell_type": "code",
   "execution_count": 21,
   "metadata": {},
   "outputs": [
    {
     "name": "stdout",
     "output_type": "stream",
     "text": [
      "java\n"
     ]
    }
   ],
   "source": [
    "#For loop\n",
    "for temp in list2[1:2]:     #':' means slicing and  ',' means Tuple so don't use comma for slicing\n",
    "    print(temp)\n",
    "    "
   ]
  },
  {
   "cell_type": "code",
   "execution_count": 12,
   "metadata": {},
   "outputs": [
    {
     "name": "stdout",
     "output_type": "stream",
     "text": [
      "python\n",
      "java\n",
      "c++\n",
      "VB\n",
      "Oracle\n"
     ]
    }
   ],
   "source": [
    "for temp in list2[0:5]:     #slicing\n",
    "    print(temp)\n",
    "    "
   ]
  },
  {
   "cell_type": "code",
   "execution_count": 11,
   "metadata": {},
   "outputs": [
    {
     "data": {
      "text/plain": [
       "range(0, 5)"
      ]
     },
     "execution_count": 11,
     "metadata": {},
     "output_type": "execute_result"
    }
   ],
   "source": [
    "# range(value)\n",
    "range(5)"
   ]
  },
  {
   "cell_type": "code",
   "execution_count": 18,
   "metadata": {},
   "outputs": [
    {
     "name": "stdout",
     "output_type": "stream",
     "text": [
      "0\n",
      "1\n",
      "2\n",
      "3\n",
      "4\n",
      "5\n",
      "6\n",
      "7\n",
      "8\n",
      "9\n",
      "10\n"
     ]
    }
   ],
   "source": [
    "for temp in range(11):     #syntax\n",
    "    print(temp)"
   ]
  },
  {
   "cell_type": "code",
   "execution_count": 20,
   "metadata": {},
   "outputs": [
    {
     "name": "stdout",
     "output_type": "stream",
     "text": [
      "1\n",
      "2\n",
      "3\n",
      "4\n",
      "5\n",
      "6\n",
      "7\n",
      "8\n",
      "9\n"
     ]
    }
   ],
   "source": [
    "for temp in range(1,10):     #syntax\n",
    "    print(temp)"
   ]
  },
  {
   "cell_type": "code",
   "execution_count": 1,
   "metadata": {},
   "outputs": [
    {
     "name": "stdout",
     "output_type": "stream",
     "text": [
      "p\n",
      "p\n",
      "y\n",
      "y\n",
      "t\n",
      "t\n",
      "h\n",
      "h\n",
      "o\n",
      "o\n",
      "n\n",
      "n\n"
     ]
    }
   ],
   "source": [
    "for temp in (\"python\"):\n",
    "    print(temp)\n",
    "    if (temp!=0):\n",
    "        print(temp)"
   ]
  },
  {
   "cell_type": "code",
   "execution_count": 8,
   "metadata": {},
   "outputs": [
    {
     "name": "stdout",
     "output_type": "stream",
     "text": [
      "Blank List: \n",
      "[]\n",
      "\n",
      "List of numbers: \n",
      "[10, 20, 14]\n",
      "\n",
      "List Items: \n",
      "Geeks\n",
      "Geeks\n",
      "\n",
      "Multi-Dimensional List: \n",
      "[['Geeks', 'For'], ['you']]\n"
     ]
    }
   ],
   "source": [
    " # Python program to demonstrate\n",
    "# Creation of List\n",
    " \n",
    "# Creating a List\n",
    "List = []\n",
    "print(\"Blank List: \")\n",
    "print(List)\n",
    " \n",
    "# Creating a List of numbers\n",
    "List = [10, 20, 14]\n",
    "print(\"\\nList of numbers: \")\n",
    "print(List)\n",
    " \n",
    "# Creating a List of strings and accessing\n",
    "# using index\n",
    "List = [\"Geeks\", \"For\", \"Geeks\"]\n",
    "print(\"\\nList Items: \")\n",
    "print(List[0])\n",
    "print(List[2])\n",
    " \n",
    "# Creating a Multi-Dimensional List\n",
    "# (By Nesting a list inside a List)\n",
    "List = [['Geeks', 'For'], ['you']]\n",
    "print(\"\\nMulti-Dimensional List: \")\n",
    "print(List)"
   ]
  },
  {
   "cell_type": "code",
   "execution_count": null,
   "metadata": {},
   "outputs": [],
   "source": [
    "AI = [\"Python\", \"for\", \"AI\\n\"]        #packing\n",
    "a, b, c = AI                        #unpacking\n",
    "print(a)\n",
    "print(b)\n",
    "print(c)\n",
    "print(a, b, c)       # cama or '+' operator can be used for multiple variable output\n",
    "print(a + b + c)     # while using '+' operator all the data type should be same\n"
   ]
  }
 ],
 "metadata": {
  "kernelspec": {
   "display_name": "Python 3",
   "language": "python",
   "name": "python3"
  },
  "language_info": {
   "codemirror_mode": {
    "name": "ipython",
    "version": 3
   },
   "file_extension": ".py",
   "mimetype": "text/x-python",
   "name": "python",
   "nbconvert_exporter": "python",
   "pygments_lexer": "ipython3",
   "version": "3.7.6"
  }
 },
 "nbformat": 4,
 "nbformat_minor": 4
}
