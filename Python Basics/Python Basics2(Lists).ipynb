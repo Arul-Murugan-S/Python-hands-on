{
 "cells": [
  {
   "cell_type": "code",
   "execution_count": 6,
   "metadata": {},
   "outputs": [
    {
     "name": "stdout",
     "output_type": "stream",
     "text": [
      "Hai Friends!\n"
     ]
    }
   ],
   "source": [
    "print(\"Hai Friends!\")"
   ]
  },
  {
   "cell_type": "code",
   "execution_count": 7,
   "metadata": {},
   "outputs": [],
   "source": [
    "num1=100"
   ]
  },
  {
   "cell_type": "code",
   "execution_count": 8,
   "metadata": {},
   "outputs": [
    {
     "name": "stdout",
     "output_type": "stream",
     "text": [
      "100\n"
     ]
    }
   ],
   "source": [
    "print(num1)"
   ]
  },
  {
   "cell_type": "code",
   "execution_count": 9,
   "metadata": {},
   "outputs": [],
   "source": [
    "str=\"welcome\""
   ]
  },
  {
   "cell_type": "code",
   "execution_count": 3,
   "metadata": {},
   "outputs": [
    {
     "data": {
      "text/plain": [
       "'welcome'"
      ]
     },
     "execution_count": 3,
     "metadata": {},
     "output_type": "execute_result"
    }
   ],
   "source": [
    "str"
   ]
  },
  {
   "cell_type": "code",
   "execution_count": 5,
   "metadata": {},
   "outputs": [
    {
     "name": "stdout",
     "output_type": "stream",
     "text": [
      "welcome\n"
     ]
    }
   ],
   "source": [
    "print(str)"
   ]
  },
  {
   "cell_type": "code",
   "execution_count": 14,
   "metadata": {},
   "outputs": [],
   "source": [
    "num2=2"
   ]
  },
  {
   "cell_type": "code",
   "execution_count": 15,
   "metadata": {},
   "outputs": [
    {
     "data": {
      "text/plain": [
       "98"
      ]
     },
     "execution_count": 15,
     "metadata": {},
     "output_type": "execute_result"
    }
   ],
   "source": [
    "num1-num2"
   ]
  },
  {
   "cell_type": "code",
   "execution_count": 17,
   "metadata": {},
   "outputs": [
    {
     "data": {
      "text/plain": [
       "200"
      ]
     },
     "execution_count": 17,
     "metadata": {},
     "output_type": "execute_result"
    }
   ],
   "source": [
    "num1*num2"
   ]
  },
  {
   "cell_type": "code",
   "execution_count": 20,
   "metadata": {},
   "outputs": [
    {
     "name": "stdout",
     "output_type": "stream",
     "text": [
      "The Sum of Num1 and Num2: 102\n"
     ]
    }
   ],
   "source": [
    "add=num1+num2\n",
    "print(\"The Sum of Num1 and Num2:\",add)"
   ]
  },
  {
   "cell_type": "code",
   "execution_count": 1,
   "metadata": {},
   "outputs": [
    {
     "name": "stdout",
     "output_type": "stream",
     "text": [
      "Enter the number:20\n"
     ]
    }
   ],
   "source": [
    "num1=input(\"Enter the number:\")"
   ]
  },
  {
   "cell_type": "code",
   "execution_count": 2,
   "metadata": {},
   "outputs": [
    {
     "name": "stdout",
     "output_type": "stream",
     "text": [
      "Enter the number1:10\n",
      "Enter the number2:20\n",
      "30\n"
     ]
    }
   ],
   "source": [
    "num1=int(input(\"Enter the number1:\"))\n",
    "num2=int(input(\"Enter the number2:\"))\n",
    "add=num1+num2\n",
    "print(add)"
   ]
  },
  {
   "cell_type": "code",
   "execution_count": 7,
   "metadata": {},
   "outputs": [
    {
     "name": "stdout",
     "output_type": "stream",
     "text": [
      "Enter the number1:10\n",
      "Enter the number2:20\n",
      "1020\n"
     ]
    }
   ],
   "source": [
    "num1=input(\"Enter the number1:\")\n",
    "num2=input(\"Enter the number2:\")\n",
    "add=num1+num2\n",
    "print(add)"
   ]
  },
  {
   "cell_type": "code",
   "execution_count": 2,
   "metadata": {},
   "outputs": [
    {
     "name": "stdout",
     "output_type": "stream",
     "text": [
      "Enter the number:5\n",
      "Enter the number:5\n",
      "25\n",
      "The mul of the two numbers is 25\n"
     ]
    }
   ],
   "source": [
    "num1=int(input(\"Enter the number:\"))\n",
    "num2=int(input(\"Enter the number:\"))\n",
    "mul=num1*num2\n",
    "print(mul)\n",
    "print(\"The mul of the two numbers is\",mul)"
   ]
  },
  {
   "cell_type": "code",
   "execution_count": null,
   "metadata": {
    "id": "tuzwWfxD2zLB",
    "outputId": "85aaf397-f9fb-4f69-a3bb-872167a8cb7d"
   },
   "outputs": [],
   "source": [
    "lst=[0,1,2,3,4,5]\n",
    "for i in lst:\n",
    "    print(i)"
   ]
  },
  {
   "cell_type": "code",
   "execution_count": null,
   "metadata": {},
   "outputs": [],
   "source": [
    "num=5\n",
    "count=0\n",
    "while(count<=num):\n",
    "    print(count)\n",
    "    count=count+1"
   ]
  },
  {
   "cell_type": "code",
   "execution_count": null,
   "metadata": {
    "scrolled": true
   },
   "outputs": [],
   "source": [
    "for i in range(0,6):\n",
    "    print(i)"
   ]
  },
  {
   "cell_type": "code",
   "execution_count": null,
   "metadata": {},
   "outputs": [],
   "source": [
    "num1=int(input(\"Enter the First Number:\"))      #its must to define data type while getting ip from user because if condition not work well\n",
    "num2=int(input(\"Enter the Second Number:\"))\n",
    "if (num1>num2):\n",
    "    print(num1,\"is greater than\",num2)\n",
    "else:\n",
    "    print(num1,\"is lesser than\",num2)\n"
   ]
  },
  {
   "cell_type": "code",
   "execution_count": null,
   "metadata": {},
   "outputs": [],
   "source": [
    "num1=10\n",
    "num2=8\n",
    "if (num1>num2):\n",
    "    print(num1,\"is greater than\",num2)\n",
    "elif (num1<num2):\n",
    "    print(num1,\"is lesser than\",num2)\n"
   ]
  },
  {
   "cell_type": "code",
   "execution_count": null,
   "metadata": {},
   "outputs": [],
   "source": [
    "lst=['P','Y','T','H','O','N']\n",
    "for i in lst:\n",
    "    print(i)"
   ]
  },
  {
   "cell_type": "code",
   "execution_count": null,
   "metadata": {
    "id": "td1W1gES2zLH",
    "outputId": "7ca28c3c-62e4-4bb4-b7b8-30f21b1f40b0"
   },
   "outputs": [],
   "source": [
    "lst1=[0,1,2,3,4,5,6,7,8,9,10,11,12,13,14,15,16,17,18,19]\n",
    "for i in lst1[0::2]:\n",
    "    print(i)"
   ]
  },
  {
   "cell_type": "code",
   "execution_count": null,
   "metadata": {},
   "outputs": [],
   "source": [
    "num=18\n",
    "count=0\n",
    "while(count<num):\n",
    "    count=count+2\n",
    "    print(count)"
   ]
  },
  {
   "cell_type": "code",
   "execution_count": null,
   "metadata": {},
   "outputs": [],
   "source": [
    "num=19\n",
    "count=1\n",
    "while(count<=num):\n",
    "        print(count)\n",
    "        count=count+2"
   ]
  },
  {
   "cell_type": "code",
   "execution_count": null,
   "metadata": {},
   "outputs": [],
   "source": [
    "num=104\n",
    "if (num%2==0):\n",
    "    print(num,'is even')\n",
    "else:\n",
    "    print(num,'is odd')"
   ]
  },
  {
   "cell_type": "code",
   "execution_count": null,
   "metadata": {
    "id": "IVvGZ1Im2zLX",
    "outputId": "1bafae0a-161b-45fb-da44-25fa31256845"
   },
   "outputs": [],
   "source": [
    "lst1=[0,1,2,3,4,5,6,7,8,9,10,11,12,13,14,15,16,17,18,19]\n",
    "for i in lst1[1::2]:\n",
    "    print(i)"
   ]
  },
  {
   "cell_type": "code",
   "execution_count": null,
   "metadata": {
    "id": "hTiFofd82zLY",
    "outputId": "5bec10e7-0cd2-4f73-cdb4-a81293fb65f1"
   },
   "outputs": [],
   "source": [
    "name=\"WELCOME TO PROGRAM\"\n",
    "list1=list(name.strip())\n",
    "num=len(list1)\n",
    "temp=0\n",
    "while(temp<=num):\n",
    "        print(count)\n",
    "        count=count+2"
   ]
  },
  {
   "cell_type": "code",
   "execution_count": null,
   "metadata": {},
   "outputs": [],
   "source": [
    "name=\"WELCOME TO PROGRAM\"\n",
    "list1=list(name.strip())\n",
    "num=len(list1)\n",
    "temp=0\n",
    "print(name)\n",
    "print('\\n')\n",
    "while(temp<num):\n",
    "        print(list1[temp])\n",
    "        temp=temp+1"
   ]
  },
  {
   "cell_type": "code",
   "execution_count": null,
   "metadata": {
    "id": "TbeaUFJf2zLc",
    "outputId": "98fde008-d0c3-476b-d22d-07bfe44f9f5b"
   },
   "outputs": [],
   "source": [
    "#my Code\n",
    "num1=int(input())  \n",
    "num2=int(input())\n",
    "num3=int(input())\n",
    "if(num1>num2):\n",
    "    if(num1>num3):\n",
    "        res=num1\n",
    "    elif(num2>num3):\n",
    "        res=num2\n",
    "    else:\n",
    "        res=num3\n",
    "elif(num2>num3):\n",
    "    res=num2\n",
    "else:\n",
    "    res=num3\n",
    "print(res,\"is greater\")\n"
   ]
  },
  {
   "cell_type": "code",
   "execution_count": null,
   "metadata": {},
   "outputs": [],
   "source": [
    "#Pravin Code\n",
    "num1=20\n",
    "num2=30\n",
    "num3=10\n",
    "if num1>num2:\n",
    "    res=num1   \n",
    "else:\n",
    "    res=num2\n",
    "if res>num3:\n",
    "    res2=res\n",
    "else:\n",
    "    res2=num3\n",
    "\n",
    "print(num1)\n",
    "print(num2)\n",
    "print(num3)\n",
    "print(res2,\"is greater\")"
   ]
  },
  {
   "cell_type": "code",
   "execution_count": null,
   "metadata": {},
   "outputs": [],
   "source": [
    "#Modified code \n",
    "num1=int(input())  \n",
    "num2=int(input())\n",
    "num3=int(input())\n",
    "if(num1>num2) and (num1>num3):\n",
    "    res=num1\n",
    "elif(num2>num1)and (num2>num3):\n",
    "    res=num2\n",
    "else:\n",
    "    res=num3\n",
    "print(res,\"is greater\")\n"
   ]
  }
 ],
 "metadata": {
  "kernelspec": {
   "display_name": "Python 3",
   "language": "python",
   "name": "python3"
  },
  "language_info": {
   "codemirror_mode": {
    "name": "ipython",
    "version": 3
   },
   "file_extension": ".py",
   "mimetype": "text/x-python",
   "name": "python",
   "nbconvert_exporter": "python",
   "pygments_lexer": "ipython3",
   "version": "3.7.6"
  }
 },
 "nbformat": 4,
 "nbformat_minor": 4
}
