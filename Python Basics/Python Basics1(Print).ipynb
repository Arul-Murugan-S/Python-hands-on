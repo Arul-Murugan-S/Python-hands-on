{
 "cells": [
  {
   "cell_type": "code",
   "execution_count": 3,
   "metadata": {},
   "outputs": [
    {
     "name": "stdout",
     "output_type": "stream",
     "text": [
      "Hai Friends!\n"
     ]
    }
   ],
   "source": [
    "print(\"Hai Friends!\")   #print a string usig print statement"
   ]
  },
  {
   "cell_type": "code",
   "execution_count": 4,
   "metadata": {},
   "outputs": [
    {
     "name": "stdout",
     "output_type": "stream",
     "text": [
      "39\n"
     ]
    }
   ],
   "source": [
    "age=39             #assignment operator ( '=' ) assigns value to variable\n",
    "print(age)"
   ]
  },
  {
   "cell_type": "code",
   "execution_count": 5,
   "metadata": {},
   "outputs": [
    {
     "name": "stdout",
     "output_type": "stream",
     "text": [
      "Arul Murugan S\n",
      "\n",
      "Arul Murugan S\n",
      "\n",
      "Arul \n",
      "Murugan \n",
      "S\n",
      "\n",
      "Arul \n",
      "Murugan \n",
      "S\n"
     ]
    }
   ],
   "source": [
    "name='Arul Murugan S'    #single or double quotes used to string input\n",
    "print(name)\n",
    "\n",
    "name=\"\\nArul Murugan S\"\n",
    "print(name)\n",
    "name='''\\nArul \n",
    "Murugan \n",
    "S'''                    #Triple of single or double quotes used for multiline string input\n",
    "\"\\n\"\n",
    "print(name)\n",
    "name=\"\"\"\\nArul \n",
    "Murugan \n",
    "S\"\"\"                    \n",
    "print(name)"
   ]
  },
  {
   "cell_type": "code",
   "execution_count": 6,
   "metadata": {},
   "outputs": [
    {
     "name": "stdout",
     "output_type": "stream",
     "text": [
      "Enter the number1:20\n",
      "Enter the number2:19\n",
      "The Sum of num1 and num2 is: 39\n"
     ]
    }
   ],
   "source": [
    "num1=int(input(\"Enter the number1:\"))   #Getting inputs from user \n",
    "num2=int(input(\"Enter the number2:\"))\n",
    "add=num1+num2                           #Adding user inputs\n",
    "\n",
    "print(\"The Sum of num1 and num2 is:\",add)  #The Output\n"
   ]
  }
 ],
 "metadata": {
  "kernelspec": {
   "display_name": "Python 3",
   "language": "python",
   "name": "python3"
  },
  "language_info": {
   "codemirror_mode": {
    "name": "ipython",
    "version": 3
   },
   "file_extension": ".py",
   "mimetype": "text/x-python",
   "name": "python",
   "nbconvert_exporter": "python",
   "pygments_lexer": "ipython3",
   "version": "3.7.6"
  }
 },
 "nbformat": 4,
 "nbformat_minor": 4
}
