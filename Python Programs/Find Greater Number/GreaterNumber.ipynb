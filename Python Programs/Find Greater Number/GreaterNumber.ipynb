{
 "cells": [
  {
   "cell_type": "markdown",
   "metadata": {},
   "source": [
    "### Find Greater number among Three numbers and in Two numbers"
   ]
  },
  {
   "cell_type": "code",
   "execution_count": 1,
   "metadata": {},
   "outputs": [],
   "source": [
    "class practice1():\n",
    "    def greaterin3():\n",
    "        num1=int(input(\"I'st Number: \"))  \n",
    "        num2=int(input(\"II'nd Number: \"))\n",
    "        num3=int(input(\"III'rd Number: \"))\n",
    "        if(num1>num2) and (num1>num3):\n",
    "            res=num1\n",
    "        elif(num2>num1)and (num2>num3):\n",
    "            res=num2\n",
    "        else:\n",
    "            res=num3\n",
    "        print(\"\\n\",res,\"is greater\\n\")\n",
    "        \n",
    "    def greaterin2():\n",
    "        num1=int(input(\"Enter the First Number:\")) \n",
    "        num2=int(input(\"Enter the Second Number:\"))\n",
    "        if (num1>num2):\n",
    "            print(\"\\n\",num1,\"is Greater than\",num2)\n",
    "        if (num2>num1):     \n",
    "            print(\"\\n\",num2,\"is Greater than\",num1)\n",
    "        "
   ]
  },
  {
   "cell_type": "code",
   "execution_count": 2,
   "metadata": {},
   "outputs": [
    {
     "name": "stdout",
     "output_type": "stream",
     "text": [
      "3\n",
      "2\n",
      "1\n",
      "\n",
      " 3 is greater\n"
     ]
    }
   ],
   "source": [
    "practice1.greaterin3()"
   ]
  },
  {
   "cell_type": "code",
   "execution_count": 3,
   "metadata": {},
   "outputs": [
    {
     "name": "stdout",
     "output_type": "stream",
     "text": [
      "Enter the First Number:5\n",
      "Enter the Second Number:8\n",
      "\n",
      " 8 is Greater than 5\n"
     ]
    }
   ],
   "source": [
    "practice1.greaterin2()"
   ]
  },
  {
   "cell_type": "code",
   "execution_count": null,
   "metadata": {},
   "outputs": [],
   "source": []
  }
 ],
 "metadata": {
  "kernelspec": {
   "display_name": "Python 3",
   "language": "python",
   "name": "python3"
  },
  "language_info": {
   "codemirror_mode": {
    "name": "ipython",
    "version": 3
   },
   "file_extension": ".py",
   "mimetype": "text/x-python",
   "name": "python",
   "nbconvert_exporter": "python",
   "pygments_lexer": "ipython3",
   "version": "3.7.6"
  }
 },
 "nbformat": 4,
 "nbformat_minor": 4
}
