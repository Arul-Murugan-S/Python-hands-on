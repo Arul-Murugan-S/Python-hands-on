{
 "cells": [
  {
   "cell_type": "markdown",
   "metadata": {},
   "source": [
    "### Find Greater number among Three numbers and in Two numbers"
   ]
  },
  {
   "cell_type": "code",
   "execution_count": 25,
   "metadata": {},
   "outputs": [],
   "source": [
    "class practice1():\n",
    "    def greaterin3():\n",
    "        num1=int(input())  \n",
    "        num2=int(input())\n",
    "        num3=int(input())\n",
    "        if(num1>num2) and (num1>num3):\n",
    "            res=num1\n",
    "        elif(num2>num1)and (num2>num3):\n",
    "            res=num2\n",
    "        else:\n",
    "            res=num3\n",
    "        print(\"\\n\",res,\"is greater\")\n",
    "        \n",
    "    def greaterin2():\n",
    "        num1=int(input(\"Enter the First Number:\")) \n",
    "        num2=int(input(\"Enter the Second Number:\"))\n",
    "        if (num1>num2):\n",
    "            print(\"\\n\",num1,\"is greater than\",num2)\n",
    "        else:\n",
    "            print(\"\\n\",num1,\"is lesser than\",num2)\n"
   ]
  },
  {
   "cell_type": "code",
   "execution_count": 20,
   "metadata": {},
   "outputs": [
    {
     "name": "stdout",
     "output_type": "stream",
     "text": [
      "3\n",
      "1\n",
      "2\n",
      "\n",
      " 3 is greater\n"
     ]
    }
   ],
   "source": [
    "practice1.greaterin3()"
   ]
  },
  {
   "cell_type": "code",
   "execution_count": 26,
   "metadata": {},
   "outputs": [
    {
     "name": "stdout",
     "output_type": "stream",
     "text": [
      "Enter the First Number:5\n",
      "Enter the Second Number:9\n",
      "\n",
      " 5 is lesser than 9\n"
     ]
    }
   ],
   "source": [
    "practice1.greaterin2()"
   ]
  }
 ],
 "metadata": {
  "kernelspec": {
   "display_name": "Python 3",
   "language": "python",
   "name": "python3"
  },
  "language_info": {
   "codemirror_mode": {
    "name": "ipython",
    "version": 3
   },
   "file_extension": ".py",
   "mimetype": "text/x-python",
   "name": "python",
   "nbconvert_exporter": "python",
   "pygments_lexer": "ipython3",
   "version": "3.7.6"
  }
 },
 "nbformat": 4,
 "nbformat_minor": 4
}
