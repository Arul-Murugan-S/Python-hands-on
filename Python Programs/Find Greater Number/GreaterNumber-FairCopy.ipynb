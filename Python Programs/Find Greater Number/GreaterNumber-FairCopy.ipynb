{
 "cells": [
  {
   "cell_type": "markdown",
   "metadata": {},
   "source": [
    "### Find Greater number among Three numbers and in Two numbers  by User defined Library"
   ]
  },
  {
   "cell_type": "code",
   "execution_count": 2,
   "metadata": {},
   "outputs": [
    {
     "name": "stdout",
     "output_type": "stream",
     "text": [
      "I'st Number: 5\n",
      "II'nd Number: 9\n",
      "III'rd Number: 2\n",
      "\n",
      " 9 is greater\n",
      "\n",
      "Enter the First Number: 3\n",
      "Enter the Second Number: 8\n",
      "\n",
      " 8 is Greater than 3\n"
     ]
    }
   ],
   "source": [
    "from GreaterNumberLib import practice1\n",
    "obj=practice1()\n",
    "\n",
    "obj.greaterin3()\n",
    "\n",
    "obj.greaterin2()"
   ]
  }
 ],
 "metadata": {
  "kernelspec": {
   "display_name": "Python 3",
   "language": "python",
   "name": "python3"
  },
  "language_info": {
   "codemirror_mode": {
    "name": "ipython",
    "version": 3
   },
   "file_extension": ".py",
   "mimetype": "text/x-python",
   "name": "python",
   "nbconvert_exporter": "python",
   "pygments_lexer": "ipython3",
   "version": "3.7.6"
  }
 },
 "nbformat": 4,
 "nbformat_minor": 4
}
