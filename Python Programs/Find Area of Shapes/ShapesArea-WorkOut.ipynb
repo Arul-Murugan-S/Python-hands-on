{
 "cells": [
  {
   "cell_type": "markdown",
   "id": "58cff7b3",
   "metadata": {
    "id": "3d37e41f"
   },
   "source": [
    "# Find the Area of Circle, Cube, Square and Rectengle:-"
   ]
  },
  {
   "cell_type": "markdown",
   "id": "2d45a05a",
   "metadata": {},
   "source": [
    "## Code for Finding Area"
   ]
  },
  {
   "cell_type": "markdown",
   "id": "5334e3e5",
   "metadata": {},
   "source": [
    "### Code for Area of Circle"
   ]
  },
  {
   "cell_type": "code",
   "execution_count": 1,
   "id": "1a2f0c34",
   "metadata": {
    "scrolled": true
   },
   "outputs": [
    {
     "name": "stdout",
     "output_type": "stream",
     "text": [
      "Enter the Radius of Circle (r): 4\n",
      "Area of the Circle is: 50.24\n"
     ]
    }
   ],
   "source": [
    "r=float(input(\"Enter the Radius of Circle (r): \"))\n",
    "acir=3.14*r*r\n",
    "print('Area of the Circle is:',acir)"
   ]
  },
  {
   "cell_type": "markdown",
   "id": "ff5f5324",
   "metadata": {},
   "source": [
    "### Code for Area of Cube Surface"
   ]
  },
  {
   "cell_type": "code",
   "execution_count": 2,
   "id": "8b8d51d3",
   "metadata": {},
   "outputs": [
    {
     "name": "stdout",
     "output_type": "stream",
     "text": [
      "Enter the Side of Cube (a): 5\n",
      "Area of the Cube is =  150.0\n"
     ]
    }
   ],
   "source": [
    "a=float(input(\"Enter the Side of Cube (a): \"))\n",
    "acube=6*a**2\n",
    "print(\"Area of the Cube is = \",acube)\n"
   ]
  },
  {
   "cell_type": "markdown",
   "id": "97f7bef0",
   "metadata": {},
   "source": [
    "### Code for Area of Square"
   ]
  },
  {
   "cell_type": "code",
   "execution_count": 3,
   "id": "a2bb4415",
   "metadata": {},
   "outputs": [
    {
     "name": "stdout",
     "output_type": "stream",
     "text": [
      "Enter the Side of Square (a): 6\n",
      "Area of the Square is =  36.0\n"
     ]
    }
   ],
   "source": [
    "a=float(input(\"Enter the Side of Square (a): \"))\n",
    "asqr=a**2\n",
    "print(\"Area of the Square is = \",asqr)\n"
   ]
  },
  {
   "cell_type": "markdown",
   "id": "398037e9",
   "metadata": {},
   "source": [
    "### Code for Area of Rectangle"
   ]
  },
  {
   "cell_type": "code",
   "execution_count": 4,
   "id": "ff2f2a9c",
   "metadata": {
    "scrolled": true
   },
   "outputs": [
    {
     "name": "stdout",
     "output_type": "stream",
     "text": [
      "Enter the Length of Rectangle (l): 4\n",
      "Enter the Length of Rectangle (w): 3\n",
      "Area of the Rectangle is =  12.0\n"
     ]
    }
   ],
   "source": [
    "l=float(input(\"Enter the Length of Rectangle (l): \"))\n",
    "w=float(input(\"Enter the Length of Rectangle (w): \"))\n",
    "arec=l*w\n",
    "print(\"Area of the Rectangle is = \",arec)\n"
   ]
  },
  {
   "cell_type": "markdown",
   "id": "98aa4e7e",
   "metadata": {},
   "source": [
    "## Creating Functions"
   ]
  },
  {
   "cell_type": "markdown",
   "id": "890c3bcf",
   "metadata": {},
   "source": [
    "### Function for Area of Circle"
   ]
  },
  {
   "cell_type": "code",
   "execution_count": 5,
   "id": "1cb9478d",
   "metadata": {
    "executionInfo": {
     "elapsed": 504,
     "status": "ok",
     "timestamp": 1637757058392,
     "user": {
      "displayName": "Pravin S",
      "photoUrl": "https://lh3.googleusercontent.com/a/default-user=s64",
      "userId": "03070006094528487602"
     },
     "user_tz": -330
    },
    "id": "209a5aca"
   },
   "outputs": [],
   "source": [
    "def circle():\n",
    "    r=float(input(\"Enter the Radius of Circle (r): \"))\n",
    "    acir=3.14*r*r\n",
    "    print('Area of the Circle is:',acir)\n",
    "    return acir"
   ]
  },
  {
   "cell_type": "code",
   "execution_count": 6,
   "id": "7f60de73",
   "metadata": {
    "scrolled": true
   },
   "outputs": [
    {
     "name": "stdout",
     "output_type": "stream",
     "text": [
      "Enter the Radius of Circle (r): 4\n",
      "Area of the Circle is: 50.24\n"
     ]
    },
    {
     "data": {
      "text/plain": [
       "50.24"
      ]
     },
     "execution_count": 6,
     "metadata": {},
     "output_type": "execute_result"
    }
   ],
   "source": [
    "circle()"
   ]
  },
  {
   "cell_type": "markdown",
   "id": "f06af86f",
   "metadata": {},
   "source": [
    "### Function for Area of Cube Surface"
   ]
  },
  {
   "cell_type": "code",
   "execution_count": 7,
   "id": "ff82f58a",
   "metadata": {},
   "outputs": [],
   "source": [
    "def cube():\n",
    "    a=float(input(\"Enter the Side of Cube (a): \"))\n",
    "    acube=6*a**2\n",
    "    print(\"Area of the Cube is = \",acube)\n",
    "    return acube"
   ]
  },
  {
   "cell_type": "code",
   "execution_count": 8,
   "id": "114f3bfe",
   "metadata": {},
   "outputs": [
    {
     "name": "stdout",
     "output_type": "stream",
     "text": [
      "Enter the Side of Cube (a): 6\n",
      "Area of the Cube is =  216.0\n"
     ]
    },
    {
     "data": {
      "text/plain": [
       "216.0"
      ]
     },
     "execution_count": 8,
     "metadata": {},
     "output_type": "execute_result"
    }
   ],
   "source": [
    "cube()"
   ]
  },
  {
   "cell_type": "markdown",
   "id": "2acdb0f8",
   "metadata": {},
   "source": [
    "### Function for Area of Square"
   ]
  },
  {
   "cell_type": "code",
   "execution_count": 9,
   "id": "b841d152",
   "metadata": {},
   "outputs": [],
   "source": [
    "def square():\n",
    "    a=float(input(\"Enter the Side of Square (a): \"))\n",
    "    asqr=a**2\n",
    "    print('Area of the sqaure is:',asqr)\n",
    "    return asqr"
   ]
  },
  {
   "cell_type": "code",
   "execution_count": 10,
   "id": "cbd77d04",
   "metadata": {
    "scrolled": true
   },
   "outputs": [
    {
     "name": "stdout",
     "output_type": "stream",
     "text": [
      "Enter the Side of Square (a): 5\n",
      "Area of the sqaure is: 25.0\n"
     ]
    },
    {
     "data": {
      "text/plain": [
       "25.0"
      ]
     },
     "execution_count": 10,
     "metadata": {},
     "output_type": "execute_result"
    }
   ],
   "source": [
    "square()"
   ]
  },
  {
   "cell_type": "markdown",
   "id": "0dc284bd",
   "metadata": {},
   "source": [
    "### Function for Area of Rectangle"
   ]
  },
  {
   "cell_type": "code",
   "execution_count": 11,
   "id": "39738806",
   "metadata": {
    "colab": {
     "base_uri": "https://localhost:8080/"
    },
    "executionInfo": {
     "elapsed": 5473,
     "status": "ok",
     "timestamp": 1637757073850,
     "user": {
      "displayName": "Pravin S",
      "photoUrl": "https://lh3.googleusercontent.com/a/default-user=s64",
      "userId": "03070006094528487602"
     },
     "user_tz": -330
    },
    "id": "5d554e97",
    "outputId": "4836865d-fc25-494a-fee2-6d27fb04396f"
   },
   "outputs": [],
   "source": [
    "def rectangle():\n",
    "    l=float(input(\"Enter the Length of Rectangle (l): \"))\n",
    "    w=float(input(\"Enter the Length of Rectangle (w): \"))\n",
    "    arect=l*w\n",
    "    print('Area of the rectangle is:',arect)\n",
    "    return arect"
   ]
  },
  {
   "cell_type": "code",
   "execution_count": 12,
   "id": "5314f23f",
   "metadata": {
    "colab": {
     "base_uri": "https://localhost:8080/"
    },
    "executionInfo": {
     "elapsed": 3701,
     "status": "ok",
     "timestamp": 1637757081634,
     "user": {
      "displayName": "Pravin S",
      "photoUrl": "https://lh3.googleusercontent.com/a/default-user=s64",
      "userId": "03070006094528487602"
     },
     "user_tz": -330
    },
    "id": "7a2a799f",
    "outputId": "efaddfb2-45b4-4cb4-f7d0-e2da5b83dccc",
    "scrolled": true
   },
   "outputs": [
    {
     "name": "stdout",
     "output_type": "stream",
     "text": [
      "Enter the Length of Rectangle (l): 4\n",
      "Enter the Length of Rectangle (w): 3\n",
      "Area of the rectangle is: 12.0\n"
     ]
    },
    {
     "data": {
      "text/plain": [
       "12.0"
      ]
     },
     "execution_count": 12,
     "metadata": {},
     "output_type": "execute_result"
    }
   ],
   "source": [
    "rectangle()"
   ]
  },
  {
   "cell_type": "markdown",
   "id": "2e5e1853",
   "metadata": {},
   "source": [
    "## Creating Class with Functions"
   ]
  },
  {
   "cell_type": "code",
   "execution_count": 13,
   "id": "a18375b7",
   "metadata": {},
   "outputs": [],
   "source": [
    "class shapesarea():\n",
    "    \n",
    "    def circle():\n",
    "        r=float(input(\"Enter the Radius of Circle (r): \"))\n",
    "        acir=3.14*r*r\n",
    "        print('Area of the Circle is:',acir)\n",
    "        print('~~~-~~~~-~~~~~-~~~~~-~~~~-~~~~-~~~')\n",
    "        return acir\n",
    "\n",
    "    def cube():\n",
    "        a=float(input(\"Enter the Side of Cube (a): \"))\n",
    "        acube=6*a**2\n",
    "        print(\"Area of the Cube is = \",acube)\n",
    "        print('~~~-~~~~-~~~~~-~~~~~-~~~~-~~~~-~~~')\n",
    "        return acube\n",
    "    \n",
    "    def square():\n",
    "        a=float(input(\"Enter the Side of Square (a): \"))\n",
    "        asqr=a**2\n",
    "        print('Area of the sqaure is:',asqr)\n",
    "        print('~~~-~~~~-~~~~~-~~~~~-~~~~-~~~~-~~~')\n",
    "        return asqr\n",
    "\n",
    "    def rectangle():\n",
    "        l=float(input(\"Enter the Length of Rectangle (l): \"))\n",
    "        w=float(input(\"Enter the Length of Rectangle (w): \"))\n",
    "        arect=l*w\n",
    "        print('Area of the rectangle is:',arect)\n",
    "        print('~~~-~~~~-~~~~~-~~~~~-~~~~-~~~~-~~~')\n",
    "        return arect\n"
   ]
  },
  {
   "cell_type": "code",
   "execution_count": 14,
   "id": "7c686857",
   "metadata": {},
   "outputs": [
    {
     "name": "stdout",
     "output_type": "stream",
     "text": [
      "Enter the Radius of Circle (r): 4\n",
      "Area of the Circle is: 50.24\n",
      "~~~-~~~~-~~~~~-~~~~~-~~~~-~~~~-~~~\n",
      "Enter the Side of Cube (a): 6\n",
      "Area of the Cube is =  216.0\n",
      "~~~-~~~~-~~~~~-~~~~~-~~~~-~~~~-~~~\n",
      "Enter the Side of Square (a): 5\n",
      "Area of the sqaure is: 25.0\n",
      "~~~-~~~~-~~~~~-~~~~~-~~~~-~~~~-~~~\n",
      "Enter the Length of Rectangle (l): 4\n",
      "Enter the Length of Rectangle (w): 3\n",
      "Area of the rectangle is: 12.0\n",
      "~~~-~~~~-~~~~~-~~~~~-~~~~-~~~~-~~~\n"
     ]
    },
    {
     "data": {
      "text/plain": [
       "12.0"
      ]
     },
     "execution_count": 14,
     "metadata": {},
     "output_type": "execute_result"
    }
   ],
   "source": [
    "shapesarea.circle()\n",
    "shapesarea.cube()\n",
    "shapesarea.square()\n",
    "shapesarea.rectangle()"
   ]
  }
 ],
 "metadata": {
  "colab": {
   "collapsed_sections": [],
   "name": "Assignmnet-3-Question-Class.ipynb",
   "provenance": []
  },
  "kernelspec": {
   "display_name": "Python 3",
   "language": "python",
   "name": "python3"
  },
  "language_info": {
   "codemirror_mode": {
    "name": "ipython",
    "version": 3
   },
   "file_extension": ".py",
   "mimetype": "text/x-python",
   "name": "python",
   "nbconvert_exporter": "python",
   "pygments_lexer": "ipython3",
   "version": "3.7.6"
  },
  "widgets": {
   "application/vnd.jupyter.widget-state+json": {
    "state": {},
    "version_major": 2,
    "version_minor": 0
   }
  }
 },
 "nbformat": 4,
 "nbformat_minor": 5
}
