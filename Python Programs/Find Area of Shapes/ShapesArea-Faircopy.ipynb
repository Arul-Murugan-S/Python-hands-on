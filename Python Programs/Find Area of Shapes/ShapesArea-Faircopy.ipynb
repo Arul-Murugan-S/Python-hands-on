{
 "cells": [
  {
   "cell_type": "code",
   "execution_count": 5,
   "metadata": {},
   "outputs": [],
   "source": [
    "from ShapesAreaLib import shapesarea      # User defined library(class and functions) call"
   ]
  },
  {
   "cell_type": "code",
   "execution_count": 6,
   "metadata": {},
   "outputs": [],
   "source": [
    "res=shapesarea()              # 'res' is an object"
   ]
  },
  {
   "cell_type": "code",
   "execution_count": 8,
   "metadata": {},
   "outputs": [
    {
     "name": "stdout",
     "output_type": "stream",
     "text": [
      "Enter the Radius of Circle (r): 5\n",
      "Area of the Circle is: 78.5\n",
      "~~~-~~~~-~~~~~-~~~~~-~~~~-~~~~-~~~\n",
      "\n",
      "\n",
      "Enter the Side of Cube (a): 4\n",
      "Area of the Cube is =  96.0\n",
      "~~~-~~~~-~~~~~-~~~~~-~~~~-~~~~-~~~\n",
      "\n",
      "\n",
      "Enter the Side of Square (a): 6\n",
      "Area of the sqaure is: 36.0\n",
      "~~~-~~~~-~~~~~-~~~~~-~~~~-~~~~-~~~\n",
      "\n",
      "\n",
      "Enter the Length of Rectangle (l): 4\n",
      "Enter the Length of Rectangle (w): 3\n",
      "Area of the rectangle is: 12.0\n",
      "~~~-~~~~-~~~~~-~~~~~-~~~~-~~~~-~~~\n",
      "\n",
      "\n"
     ]
    }
   ],
   "source": [
    "ans=res.circle()               # Circle function is accessed by object 'res' by dot or access operator\n",
    "print('\\n')\n",
    "ans=res.cube()\n",
    "print('\\n')\n",
    "ans=res.square()\n",
    "print('\\n')\n",
    "ans=res.rectangle()\n",
    "print('\\n')"
   ]
  }
 ],
 "metadata": {
  "kernelspec": {
   "display_name": "Python 3",
   "language": "python",
   "name": "python3"
  },
  "language_info": {
   "codemirror_mode": {
    "name": "ipython",
    "version": 3
   },
   "file_extension": ".py",
   "mimetype": "text/x-python",
   "name": "python",
   "nbconvert_exporter": "python",
   "pygments_lexer": "ipython3",
   "version": "3.7.6"
  }
 },
 "nbformat": 4,
 "nbformat_minor": 4
}
