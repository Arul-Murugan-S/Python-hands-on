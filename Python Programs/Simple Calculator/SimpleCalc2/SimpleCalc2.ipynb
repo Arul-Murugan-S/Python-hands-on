{
 "cells": [
  {
   "cell_type": "markdown",
   "metadata": {},
   "source": [
    "## Simple Calculator \n",
    "### Class with functions"
   ]
  },
  {
   "cell_type": "code",
   "execution_count": 3,
   "metadata": {},
   "outputs": [],
   "source": [
    "class simple_calc():\n",
    "           \n",
    "    def addition(x,y):\n",
    "        add=x+y\n",
    "        return add\n",
    "    \n",
    "    def subtraction(x,y):\n",
    "        sub=x-y\n",
    "        return sub\n",
    "    \n",
    "    def multiplication(x,y):\n",
    "        mul=x*y\n",
    "        return mul\n",
    "    \n",
    "    def division(x,y):\n",
    "        div=x/y\n",
    "        return div\n",
    "    \n",
    "    def calc():\n",
    "        \n",
    "        #Getting inputs from user\n",
    "        #control structure\n",
    "        #object and Function calling from class\n",
    "        #Passing values to function by Parmeters\n",
    "        #Getting output by Print Statement\n",
    "        \n",
    "        print(\"\\nOutput:-\")\n",
    "        num1=int(input(\"\\nEnter the First Number: \"))\n",
    "        operation=str(input(\"\\nEnter the Operator (+, -, *, /) :  \"))\n",
    "        num2=int(input(\"\\nEnter the Second Number: \"))\n",
    "               \n",
    "        if operation=='+':\n",
    "            result=simple_calc.addition(num1,num2)\n",
    "            print(\"\\nThe Addition of\",'(',num1, \"+\", num2,')', \"=\", result)\n",
    "        elif operation=='-':\n",
    "            result=simple_calc.subtraction(num1,num2)                 \n",
    "            print(\"\\nThe Subtraction of\",'(',num1, \"-\", num2,')', \"=\", result)\n",
    "        elif operation=='*':\n",
    "            result=simple_calc.multiplication(num1,num2)\n",
    "            print(\"\\nThe Multiplication of\",'(',num1, \"*\", num2,')', \"=\", result)\n",
    "        elif operation=='/':\n",
    "            result=simple_calc.division(num1,num2)\n",
    "            print(\"\\nThe Division of\",'(',num1, \"/\", num2,')', \"=\", result)\n",
    "        else:\n",
    "            print(\"\\nPlease Enter Right Operator!\")"
   ]
  },
  {
   "cell_type": "code",
   "execution_count": 5,
   "metadata": {},
   "outputs": [
    {
     "name": "stdout",
     "output_type": "stream",
     "text": [
      "\n",
      "Output:-\n",
      "\n",
      "Enter the First Number: 5\n",
      "\n",
      "Enter the Operator (+, -, *, /) :  *\n",
      "\n",
      "Enter the Second Number: 5\n",
      "\n",
      "The Multiplication of ( 5 * 5 ) = 25\n"
     ]
    }
   ],
   "source": [
    "simple_calc.calc()"
   ]
  }
 ],
 "metadata": {
  "kernelspec": {
   "display_name": "Python 3",
   "language": "python",
   "name": "python3"
  },
  "language_info": {
   "codemirror_mode": {
    "name": "ipython",
    "version": 3
   },
   "file_extension": ".py",
   "mimetype": "text/x-python",
   "name": "python",
   "nbconvert_exporter": "python",
   "pygments_lexer": "ipython3",
   "version": "3.7.6"
  }
 },
 "nbformat": 4,
 "nbformat_minor": 2
}
