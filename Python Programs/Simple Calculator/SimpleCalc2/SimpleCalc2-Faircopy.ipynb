{
 "cells": [
  {
   "cell_type": "markdown",
   "metadata": {},
   "source": [
    "## SimpleCalc2 by user defined Library"
   ]
  },
  {
   "cell_type": "code",
   "execution_count": 1,
   "metadata": {
    "scrolled": true
   },
   "outputs": [
    {
     "name": "stdout",
     "output_type": "stream",
     "text": [
      "\n",
      "Input:-\n",
      "\n",
      "Enter the First Number: 5\n",
      "\n",
      "Enter the Operator (+, -, *, /) :  *\n",
      "\n",
      "Enter the Second Number: 5\n",
      "\n",
      "Output:-\n",
      "\n",
      "The Multiplication of ( 5 * 5 ) = 25\n",
      "\n",
      "(Or)\n",
      "Output by return statement:  25\n"
     ]
    }
   ],
   "source": [
    "from SimpleCalc2 import simple_calc\n",
    "obj=simple_calc()\n",
    "out=obj.calc()\n",
    "print(\"\\n(Or)\\nOutput by return statement: \",out)"
   ]
  }
 ],
 "metadata": {
  "kernelspec": {
   "display_name": "Python 3",
   "language": "python",
   "name": "python3"
  },
  "language_info": {
   "codemirror_mode": {
    "name": "ipython",
    "version": 3
   },
   "file_extension": ".py",
   "mimetype": "text/x-python",
   "name": "python",
   "nbconvert_exporter": "python",
   "pygments_lexer": "ipython3",
   "version": "3.7.6"
  }
 },
 "nbformat": 4,
 "nbformat_minor": 2
}
